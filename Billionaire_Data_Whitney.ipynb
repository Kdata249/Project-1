{
 "cells": [
  {
   "cell_type": "code",
   "execution_count": 1,
   "metadata": {},
   "outputs": [],
   "source": [
    "import matplotlib.pyplot as plt\n",
    "import pandas as pd\n",
    "import scipy.stats as st\n",
    "from matplotlib.ticker import NullFormatter\n",
    "import os\n",
    "\n",
    "\n",
    "# read csv\n",
    "csv = \"Billionaire_Data.csv\"\n",
    "data_df = pd.read_csv(csv)"
   ]
  },
  {
   "cell_type": "code",
   "execution_count": 2,
   "metadata": {},
   "outputs": [],
   "source": [
    "data_df[\"gdp_country\"] = data_df[\"gdp_country\"].str.replace(\"$\", \"\")\n",
    "data_df[\"gdp_country\"] = data_df[\"gdp_country\"].str.replace(\",\", \"\")\n",
    "data_df[\"gdp_country\"]=data_df[\"gdp_country\"].astype(float)"
   ]
  },
  {
   "cell_type": "code",
   "execution_count": 3,
   "metadata": {},
   "outputs": [
    {
     "data": {
      "text/html": [
       "<div>\n",
       "<style scoped>\n",
       "    .dataframe tbody tr th:only-of-type {\n",
       "        vertical-align: middle;\n",
       "    }\n",
       "\n",
       "    .dataframe tbody tr th {\n",
       "        vertical-align: top;\n",
       "    }\n",
       "\n",
       "    .dataframe thead th {\n",
       "        text-align: right;\n",
       "    }\n",
       "</style>\n",
       "<table border=\"1\" class=\"dataframe\">\n",
       "  <thead>\n",
       "    <tr style=\"text-align: right;\">\n",
       "      <th></th>\n",
       "      <th>rank</th>\n",
       "      <th>finalWorth</th>\n",
       "      <th>category</th>\n",
       "      <th>personName</th>\n",
       "      <th>age</th>\n",
       "      <th>country</th>\n",
       "      <th>city</th>\n",
       "      <th>source</th>\n",
       "      <th>industries</th>\n",
       "      <th>countryOfCitizenship</th>\n",
       "      <th>...</th>\n",
       "      <th>cpi_change_country</th>\n",
       "      <th>gdp_country</th>\n",
       "      <th>gross_tertiary_education_enrollment</th>\n",
       "      <th>gross_primary_education_enrollment_country</th>\n",
       "      <th>life_expectancy_country</th>\n",
       "      <th>tax_revenue_country_country</th>\n",
       "      <th>total_tax_rate_country</th>\n",
       "      <th>population_country</th>\n",
       "      <th>latitude_country</th>\n",
       "      <th>longitude_country</th>\n",
       "    </tr>\n",
       "  </thead>\n",
       "  <tbody>\n",
       "    <tr>\n",
       "      <th>0</th>\n",
       "      <td>1</td>\n",
       "      <td>211.0</td>\n",
       "      <td>Fashion &amp; Retail</td>\n",
       "      <td>Bernard Arnault &amp; family</td>\n",
       "      <td>74.0</td>\n",
       "      <td>France</td>\n",
       "      <td>Paris</td>\n",
       "      <td>LVMH</td>\n",
       "      <td>Fashion &amp; Retail</td>\n",
       "      <td>France</td>\n",
       "      <td>...</td>\n",
       "      <td>1.1</td>\n",
       "      <td>2715.518274</td>\n",
       "      <td>65.6</td>\n",
       "      <td>102.5</td>\n",
       "      <td>82.5</td>\n",
       "      <td>24.2</td>\n",
       "      <td>60.7</td>\n",
       "      <td>67059887.0</td>\n",
       "      <td>46.227638</td>\n",
       "      <td>2.213749</td>\n",
       "    </tr>\n",
       "    <tr>\n",
       "      <th>1</th>\n",
       "      <td>2</td>\n",
       "      <td>180.0</td>\n",
       "      <td>Automotive</td>\n",
       "      <td>Elon Musk</td>\n",
       "      <td>51.0</td>\n",
       "      <td>United States</td>\n",
       "      <td>Austin</td>\n",
       "      <td>Tesla, SpaceX</td>\n",
       "      <td>Automotive</td>\n",
       "      <td>United States</td>\n",
       "      <td>...</td>\n",
       "      <td>7.5</td>\n",
       "      <td>21427.700000</td>\n",
       "      <td>88.2</td>\n",
       "      <td>101.8</td>\n",
       "      <td>78.5</td>\n",
       "      <td>9.6</td>\n",
       "      <td>36.6</td>\n",
       "      <td>328239523.0</td>\n",
       "      <td>37.090240</td>\n",
       "      <td>-95.712891</td>\n",
       "    </tr>\n",
       "    <tr>\n",
       "      <th>2</th>\n",
       "      <td>3</td>\n",
       "      <td>114.0</td>\n",
       "      <td>Technology</td>\n",
       "      <td>Jeff Bezos</td>\n",
       "      <td>59.0</td>\n",
       "      <td>United States</td>\n",
       "      <td>Medina</td>\n",
       "      <td>Amazon</td>\n",
       "      <td>Technology</td>\n",
       "      <td>United States</td>\n",
       "      <td>...</td>\n",
       "      <td>7.5</td>\n",
       "      <td>21427.700000</td>\n",
       "      <td>88.2</td>\n",
       "      <td>101.8</td>\n",
       "      <td>78.5</td>\n",
       "      <td>9.6</td>\n",
       "      <td>36.6</td>\n",
       "      <td>328239523.0</td>\n",
       "      <td>37.090240</td>\n",
       "      <td>-95.712891</td>\n",
       "    </tr>\n",
       "    <tr>\n",
       "      <th>3</th>\n",
       "      <td>4</td>\n",
       "      <td>107.0</td>\n",
       "      <td>Technology</td>\n",
       "      <td>Larry Ellison</td>\n",
       "      <td>78.0</td>\n",
       "      <td>United States</td>\n",
       "      <td>Lanai</td>\n",
       "      <td>Oracle</td>\n",
       "      <td>Technology</td>\n",
       "      <td>United States</td>\n",
       "      <td>...</td>\n",
       "      <td>7.5</td>\n",
       "      <td>21427.700000</td>\n",
       "      <td>88.2</td>\n",
       "      <td>101.8</td>\n",
       "      <td>78.5</td>\n",
       "      <td>9.6</td>\n",
       "      <td>36.6</td>\n",
       "      <td>328239523.0</td>\n",
       "      <td>37.090240</td>\n",
       "      <td>-95.712891</td>\n",
       "    </tr>\n",
       "    <tr>\n",
       "      <th>4</th>\n",
       "      <td>5</td>\n",
       "      <td>106.0</td>\n",
       "      <td>Finance &amp; Investments</td>\n",
       "      <td>Warren Buffett</td>\n",
       "      <td>92.0</td>\n",
       "      <td>United States</td>\n",
       "      <td>Omaha</td>\n",
       "      <td>Berkshire Hathaway</td>\n",
       "      <td>Finance &amp; Investments</td>\n",
       "      <td>United States</td>\n",
       "      <td>...</td>\n",
       "      <td>7.5</td>\n",
       "      <td>21427.700000</td>\n",
       "      <td>88.2</td>\n",
       "      <td>101.8</td>\n",
       "      <td>78.5</td>\n",
       "      <td>9.6</td>\n",
       "      <td>36.6</td>\n",
       "      <td>328239523.0</td>\n",
       "      <td>37.090240</td>\n",
       "      <td>-95.712891</td>\n",
       "    </tr>\n",
       "  </tbody>\n",
       "</table>\n",
       "<p>5 rows × 35 columns</p>\n",
       "</div>"
      ],
      "text/plain": [
       "   rank  finalWorth               category                personName   age  \\\n",
       "0     1       211.0       Fashion & Retail  Bernard Arnault & family  74.0   \n",
       "1     2       180.0             Automotive                 Elon Musk  51.0   \n",
       "2     3       114.0             Technology                Jeff Bezos  59.0   \n",
       "3     4       107.0             Technology             Larry Ellison  78.0   \n",
       "4     5       106.0  Finance & Investments            Warren Buffett  92.0   \n",
       "\n",
       "         country    city              source             industries  \\\n",
       "0         France   Paris                LVMH       Fashion & Retail   \n",
       "1  United States  Austin       Tesla, SpaceX             Automotive   \n",
       "2  United States  Medina              Amazon             Technology   \n",
       "3  United States   Lanai              Oracle             Technology   \n",
       "4  United States   Omaha  Berkshire Hathaway  Finance & Investments   \n",
       "\n",
       "  countryOfCitizenship  ... cpi_change_country   gdp_country  \\\n",
       "0               France  ...                1.1   2715.518274   \n",
       "1        United States  ...                7.5  21427.700000   \n",
       "2        United States  ...                7.5  21427.700000   \n",
       "3        United States  ...                7.5  21427.700000   \n",
       "4        United States  ...                7.5  21427.700000   \n",
       "\n",
       "  gross_tertiary_education_enrollment  \\\n",
       "0                                65.6   \n",
       "1                                88.2   \n",
       "2                                88.2   \n",
       "3                                88.2   \n",
       "4                                88.2   \n",
       "\n",
       "  gross_primary_education_enrollment_country life_expectancy_country  \\\n",
       "0                                      102.5                    82.5   \n",
       "1                                      101.8                    78.5   \n",
       "2                                      101.8                    78.5   \n",
       "3                                      101.8                    78.5   \n",
       "4                                      101.8                    78.5   \n",
       "\n",
       "  tax_revenue_country_country total_tax_rate_country population_country  \\\n",
       "0                        24.2                   60.7         67059887.0   \n",
       "1                         9.6                   36.6        328239523.0   \n",
       "2                         9.6                   36.6        328239523.0   \n",
       "3                         9.6                   36.6        328239523.0   \n",
       "4                         9.6                   36.6        328239523.0   \n",
       "\n",
       "  latitude_country longitude_country  \n",
       "0        46.227638          2.213749  \n",
       "1        37.090240        -95.712891  \n",
       "2        37.090240        -95.712891  \n",
       "3        37.090240        -95.712891  \n",
       "4        37.090240        -95.712891  \n",
       "\n",
       "[5 rows x 35 columns]"
      ]
     },
     "execution_count": 3,
     "metadata": {},
     "output_type": "execute_result"
    }
   ],
   "source": [
    "data_df[\"finalWorth\"]/=1000\n",
    "data_df['gdp_country']/=1000000000\n",
    "data_df.head()"
   ]
  },
  {
   "cell_type": "code",
   "execution_count": 4,
   "metadata": {},
   "outputs": [
    {
     "data": {
      "text/plain": [
       "1812"
      ]
     },
     "execution_count": 4,
     "metadata": {},
     "output_type": "execute_result"
    }
   ],
   "source": [
    "#Compare the net worth of billionaires who are selfmade vs those with inherited wealth\n",
    "data_df[\"selfMade\"] = data_df[\"selfMade\"].map({True:\"Selfmade\", False:\"Inherited\"})\n",
    "\n",
    "#Number of selfmade billionaires\n",
    "num_selfmade = data_df.selfMade.value_counts().loc[\"Selfmade\"]\n",
    "num_selfmade"
   ]
  },
  {
   "cell_type": "code",
   "execution_count": 5,
   "metadata": {},
   "outputs": [
    {
     "data": {
      "text/plain": [
       "828"
      ]
     },
     "execution_count": 5,
     "metadata": {},
     "output_type": "execute_result"
    }
   ],
   "source": [
    "#number of billionaires with inherited wealth\n",
    "num_inherited = data_df.selfMade.value_counts().loc[\"Inherited\"]\n",
    "num_inherited"
   ]
  },
  {
   "cell_type": "code",
   "execution_count": 6,
   "metadata": {},
   "outputs": [
    {
     "data": {
      "image/png": "[encoded data removed]",
      "text/plain": [
       "<Figure size 640x480 with 1 Axes>"
      ]
     },
     "metadata": {},
     "output_type": "display_data"
    }
   ],
   "source": [
    "#chart comparing selfmade to inherited\n",
    "data_df.selfMade.value_counts().plot.pie(autopct='%.2f%%', ylabel='Billionaires');\n",
    "\n",
    "plt.savefig(\"Output/selfmade_vs_inherited_1.png\")"
   ]
  },
  {
   "cell_type": "code",
   "execution_count": 7,
   "metadata": {},
   "outputs": [
    {
     "data": {
      "text/html": [
       "<div>\n",
       "<style scoped>\n",
       "    .dataframe tbody tr th:only-of-type {\n",
       "        vertical-align: middle;\n",
       "    }\n",
       "\n",
       "    .dataframe tbody tr th {\n",
       "        vertical-align: top;\n",
       "    }\n",
       "\n",
       "    .dataframe thead th {\n",
       "        text-align: right;\n",
       "    }\n",
       "</style>\n",
       "<table border=\"1\" class=\"dataframe\">\n",
       "  <thead>\n",
       "    <tr style=\"text-align: right;\">\n",
       "      <th></th>\n",
       "      <th>selfMade</th>\n",
       "      <th>finalWorth</th>\n",
       "    </tr>\n",
       "  </thead>\n",
       "  <tbody>\n",
       "    <tr>\n",
       "      <th>0</th>\n",
       "      <td>Inherited</td>\n",
       "      <td>4115.5</td>\n",
       "    </tr>\n",
       "    <tr>\n",
       "      <th>1</th>\n",
       "      <td>Selfmade</td>\n",
       "      <td>8091.3</td>\n",
       "    </tr>\n",
       "  </tbody>\n",
       "</table>\n",
       "</div>"
      ],
      "text/plain": [
       "    selfMade  finalWorth\n",
       "0  Inherited      4115.5\n",
       "1   Selfmade      8091.3"
      ]
     },
     "execution_count": 7,
     "metadata": {},
     "output_type": "execute_result"
    }
   ],
   "source": [
    "columns = [\"selfMade\",\n",
    "           \"finalWorth\"]\n",
    "cut_df = pd.DataFrame(data_df, columns=columns)\n",
    "# cut_df.dtypes\n",
    "worth_group = cut_df.groupby([\"selfMade\"],as_index=False).sum()\n",
    "worth_group"
   ]
  },
  {
   "cell_type": "code",
   "execution_count": 8,
   "metadata": {},
   "outputs": [],
   "source": [
    "tot_in_worth = worth_group.loc[worth_group[\"selfMade\"]== \"Inherited\", \"finalWorth\"].iloc[0]\n",
    "\n",
    "tot_sm_worth = worth_group.loc[worth_group[\"selfMade\"]== \"Selfmade\", \"finalWorth\"].iloc[0]\n"
   ]
  },
  {
   "cell_type": "code",
   "execution_count": 9,
   "metadata": {},
   "outputs": [
    {
     "data": {
      "image/png": "[encoded data removed]",
      "text/plain": [
       "<Figure size 500x500 with 1 Axes>"
      ]
     },
     "metadata": {},
     "output_type": "display_data"
    }
   ],
   "source": [
    "def formatter(x, pos):\n",
    "    return str(round(x / 1000, 1)) + \" trillion\"\n",
    "\n",
    "fig, ax = plt.subplots()\n",
    "ax.yaxis.set_major_formatter(formatter)\n",
    "ax.yaxis.set_minor_formatter(NullFormatter())\n",
    "\n",
    "worth_group[\"finalWorth\"].plot.bar(ylabel='Total in US $', rot=0, xlabel=\"Source of Money\",title= \"Total Worth of Billionaires\", color=\"limegreen\", figsize=(5,5));\n",
    "\n",
    "plt.savefig(\"Output/selfmade_vs_inherited_2.png\")"
   ]
  },
  {
   "cell_type": "code",
   "execution_count": 10,
   "metadata": {},
   "outputs": [
    {
     "data": {
      "text/html": [
       "<div>\n",
       "<style scoped>\n",
       "    .dataframe tbody tr th:only-of-type {\n",
       "        vertical-align: middle;\n",
       "    }\n",
       "\n",
       "    .dataframe tbody tr th {\n",
       "        vertical-align: top;\n",
       "    }\n",
       "\n",
       "    .dataframe thead th {\n",
       "        text-align: right;\n",
       "    }\n",
       "</style>\n",
       "<table border=\"1\" class=\"dataframe\">\n",
       "  <thead>\n",
       "    <tr style=\"text-align: right;\">\n",
       "      <th></th>\n",
       "      <th>selfMade</th>\n",
       "      <th>finalWorth</th>\n",
       "    </tr>\n",
       "  </thead>\n",
       "  <tbody>\n",
       "    <tr>\n",
       "      <th>0</th>\n",
       "      <td>Inherited</td>\n",
       "      <td>4.970411</td>\n",
       "    </tr>\n",
       "    <tr>\n",
       "      <th>1</th>\n",
       "      <td>Selfmade</td>\n",
       "      <td>4.465397</td>\n",
       "    </tr>\n",
       "  </tbody>\n",
       "</table>\n",
       "</div>"
      ],
      "text/plain": [
       "    selfMade  finalWorth\n",
       "0  Inherited    4.970411\n",
       "1   Selfmade    4.465397"
      ]
     },
     "execution_count": 10,
     "metadata": {},
     "output_type": "execute_result"
    }
   ],
   "source": [
    "columns = [\"selfMade\",\n",
    "           \"finalWorth\"]\n",
    "cut_df = pd.DataFrame(data_df, columns=columns)\n",
    "# cut_df.dtypes\n",
    "mean_group = cut_df.groupby([\"selfMade\"],as_index=False).mean()\n",
    "mean_group"
   ]
  },
  {
   "cell_type": "code",
   "execution_count": 11,
   "metadata": {},
   "outputs": [],
   "source": [
    "in_mean = mean_group.loc[mean_group[\"selfMade\"]== \"Inherited\", \"finalWorth\"].iloc[0]\n",
    "in_mean = in_mean.round(2)\n",
    "\n",
    "sm_mean = mean_group.loc[mean_group[\"selfMade\"]== \"Selfmade\", \"finalWorth\"].iloc[0]\n",
    "sm_mean = sm_mean.round(2)"
   ]
  },
  {
   "cell_type": "code",
   "execution_count": 12,
   "metadata": {},
   "outputs": [],
   "source": [
    "columns = [\"selfMade\",\n",
    "           \"finalWorth\"]\n",
    "cut_df = pd.DataFrame(data_df, columns=columns)\n",
    "\n",
    "med_group = cut_df.groupby([\"selfMade\"]).median()"
   ]
  },
  {
   "cell_type": "code",
   "execution_count": 13,
   "metadata": {},
   "outputs": [
    {
     "data": {
      "image/png": "[encoded data removed]",
      "text/plain": [
       "<Figure size 1500x1000 with 1 Axes>"
      ]
     },
     "metadata": {},
     "output_type": "display_data"
    }
   ],
   "source": [
    "#Boxplot of Inherited wealth vs Selfmade billionaires by Net Worth\n",
    "\n",
    "data_df.boxplot(by='selfMade', column='finalWorth', grid=True, figsize=(15,10))\n",
    "plt.title(\"Boxplot of Billionaires Net Worth\")\n",
    "plt.xlabel('Source of Money')\n",
    "plt.ylabel('Net Worth in Billions');\n",
    "\n",
    "plt.savefig(\"Output/selfmade_vs_inherited_3.png\")"
   ]
  },
  {
   "cell_type": "code",
   "execution_count": 14,
   "metadata": {},
   "outputs": [],
   "source": [
    "worth_inherited = data_df[data_df.selfMade == 'Inherited']\n",
    "worth_selfmade = data_df[data_df.selfMade == 'Selfmade']"
   ]
  },
  {
   "cell_type": "code",
   "execution_count": 15,
   "metadata": {},
   "outputs": [],
   "source": [
    "#Selfmade quartiles and bounds\n",
    "\n",
    "sm_quartiles = worth_selfmade[\"finalWorth\"].quantile([.25,.5,.75])\n",
    "sm_lowerq = sm_quartiles[0.25]\n",
    "sm_upperq = sm_quartiles[0.75]\n",
    "sm_iqr = sm_upperq-sm_lowerq\n",
    "sm_iqr = sm_iqr.round(2)\n",
    "sm_lower_bound = sm_lowerq - (1.5*sm_iqr)\n",
    "sm_upper_bound = sm_upperq + (1.5*sm_iqr)\n",
    "sm_upper_bound = sm_upper_bound.round(2)"
   ]
  },
  {
   "cell_type": "code",
   "execution_count": 16,
   "metadata": {},
   "outputs": [],
   "source": [
    "sm_column = worth_selfmade[\"finalWorth\"]\n",
    "sm_outliers = sm_column[sm_column > 7.9 ].count()"
   ]
  },
  {
   "cell_type": "code",
   "execution_count": 17,
   "metadata": {},
   "outputs": [],
   "source": [
    "#Inherited quartiles and bounds\n",
    "\n",
    "in_quartiles = worth_inherited[\"finalWorth\"].quantile([.25,.5,.75])\n",
    "in_lowerq = in_quartiles[0.25]\n",
    "in_upperq = in_quartiles[0.75]\n",
    "in_iqr = in_upperq-in_lowerq\n",
    "\n",
    "in_lower_bound = in_lowerq - (1.5*in_iqr)\n",
    "in_upper_bound = in_upperq + (1.5*in_iqr)"
   ]
  },
  {
   "cell_type": "code",
   "execution_count": 18,
   "metadata": {},
   "outputs": [],
   "source": [
    "in_column = worth_inherited[\"finalWorth\"]\n",
    "in_outliers = in_column[in_column > 9.1 ].count()"
   ]
  },
  {
   "cell_type": "code",
   "execution_count": 20,
   "metadata": {},
   "outputs": [
    {
     "name": "stdout",
     "output_type": "stream",
     "text": [
      "\n",
      "Analysis of Billionaires Who are Selfmade vs Inherited Wealth\n",
      "----------------------------\n",
      "The number of selfmade billionaires is 1812\n",
      "The combined sum of those who are selfmade billionaires is $8091.3 trillion\n",
      "\n",
      "The number of billionaires  with inherited wealth  is 828\n",
      "The combined sum of billionaires with inherited wealth is $4115.5 trillion\n",
      "\n",
      "----------------------------\n",
      "\n",
      "The lower quartile of selfmade worth is: $1.5 billion\n",
      "The upper quartile of selfmade worth is: $4.1 billion\n",
      "The interquartile range of selfmade worth is: $2.6 billion\n",
      "\n",
      "The the median of selfmade worth is: $2.2 billion\n",
      "The average of selfmade worth is $4.47 billion\n",
      "\n",
      "Values above $8.0 billion could be outliers\n",
      "\n",
      "There are 174 outliers who are selfmade billionaires\n",
      "\n",
      "----------------------------\n",
      "\n",
      "The lower quartile of inherited worth is: $1.6 billion\n",
      "The upper quartile of inherited worth is: $4.625 billion\n",
      "The interquartile range of inherited worth is: $3.025 billion\n",
      "\n",
      "The the median of inherited worth is: $2.6 billion\n",
      "The average of inherited worth is $4.97 billion\n",
      "\n",
      "Values above $9.1625 billion could be outliers\n",
      "\n",
      "There are 72 outliers with inherited wealth\n",
      "\n"
     ]
    },
    {
     "data": {
      "text/plain": [
       "1139"
      ]
     },
     "execution_count": 20,
     "metadata": {},
     "output_type": "execute_result"
    }
   ],
   "source": [
    "my_report = open(os.path.join(\"Output\",\"Inherited_vs_Selfmade.txt\"), \"w\")\n",
    "\n",
    "output = f'''\n",
    "Analysis of Billionaires Who are Selfmade vs Inherited Wealth\n",
    "----------------------------\n",
    "The number of selfmade billionaires is {num_selfmade}\n",
    "The combined sum of those who are selfmade billionaires is ${tot_sm_worth} trillion\n",
    "\n",
    "The number of billionaires  with inherited wealth  is {num_inherited}\n",
    "The combined sum of billionaires with inherited wealth is ${tot_in_worth} trillion\n",
    "\n",
    "----------------------------\n",
    "\n",
    "The lower quartile of selfmade worth is: ${sm_lowerq} billion\n",
    "The upper quartile of selfmade worth is: ${sm_upperq} billion\n",
    "The interquartile range of selfmade worth is: ${sm_iqr} billion\n",
    "\n",
    "The the median of selfmade worth is: ${sm_quartiles[0.5]} billion\n",
    "The average of selfmade worth is ${sm_mean} billion\n",
    "\n",
    "Values above ${sm_upper_bound} billion could be outliers\n",
    "\n",
    "There are {sm_outliers} outliers who are selfmade billionaires\n",
    "\n",
    "----------------------------\n",
    "\n",
    "The lower quartile of inherited worth is: ${in_lowerq} billion\n",
    "The upper quartile of inherited worth is: ${in_upperq} billion\n",
    "The interquartile range of inherited worth is: ${in_iqr} billion\n",
    "\n",
    "The the median of inherited worth is: ${in_quartiles[0.5]} billion\n",
    "The average of inherited worth is ${in_mean} billion\n",
    "\n",
    "Values above ${in_upper_bound} billion could be outliers\n",
    "\n",
    "There are {in_outliers} outliers with inherited wealth\n",
    "'''\n",
    "print(output)\n",
    "my_report.write(output)"
   ]
  }
 ],
 "metadata": {
  "kernelspec": {
   "display_name": "dev",
   "language": "python",
   "name": "python3"
  },
  "language_info": {
   "codemirror_mode": {
    "name": "ipython",
    "version": 3
   },
   "file_extension": ".py",
   "mimetype": "text/x-python",
   "name": "python",
   "nbconvert_exporter": "python",
   "pygments_lexer": "ipython3",
   "version": "3.10.13"
  }
 },
 "nbformat": 4,
 "nbformat_minor": 2
}
