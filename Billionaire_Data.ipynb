{
 "cells": [
  {
   "cell_type": "code",
   "execution_count": null,
   "metadata": {},
   "outputs": [],
   "source": [
    "import matplotlib.pyplot as plt\n",
    "import pandas as pd\n",
    "import scipy.stats as st\n",
    "from matplotlib.ticker import NullFormatter\n",
    "\n",
    "\n",
    "# read csv\n",
    "csv = \"Billionaire_Data.csv\"\n",
    "data_df = pd.read_csv(csv)"
   ]
  },
  {
   "cell_type": "code",
   "execution_count": null,
   "metadata": {},
   "outputs": [],
   "source": [
    "data_df[\"gdp_country\"] = data_df[\"gdp_country\"].str.replace(\"$\", \"\")\n",
    "data_df[\"gdp_country\"] = data_df[\"gdp_country\"].str.replace(\",\", \"\")\n",
    "data_df[\"gdp_country\"]=data_df[\"gdp_country\"].astype(float)"
   ]
  },
  {
   "cell_type": "code",
   "execution_count": null,
   "metadata": {},
   "outputs": [],
   "source": [
    "data_df[\"finalWorth\"]/=1000\n",
    "data_df['gdp_country']/=1000000000\n",
    "data_df.head()"
   ]
  }
 ],
 "metadata": {
  "language_info": {
   "name": "python"
  }
 },
 "nbformat": 4,
 "nbformat_minor": 2
}
